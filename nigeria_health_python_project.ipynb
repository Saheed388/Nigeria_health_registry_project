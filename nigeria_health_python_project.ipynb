{
 "cells": [
  {
   "cell_type": "code",
   "execution_count": 1,
   "id": "f510d33d",
   "metadata": {},
   "outputs": [],
   "source": [
    "import pandas as pd\n",
    "from selenium import webdriver\n",
    "from selenium.webdriver.chrome.service import Service\n",
    "from selenium.webdriver.common.by import By\n",
    "import time\n",
    "import csv\n",
    "service = Service(\"C:\\webdrivers\\chromedriver.exe\")\n",
    "driver = webdriver.Chrome(service = service)\n",
    "\n",
    "\n",
    "driver.get('https://www.hfr.health.gov.ng/facilities/hospitals-list/')\n",
    "driver.maximize_window()"
   ]
  },
  {
   "cell_type": "code",
   "execution_count": 2,
   "id": "4c0dac1f",
   "metadata": {
    "collapsed": true
   },
   "outputs": [
    {
     "ename": "NoSuchWindowException",
     "evalue": "Message: no such window: target window already closed\nfrom unknown error: web view not found\n  (Session info: chrome=111.0.5563.147)\nStacktrace:\nBacktrace:\n\t(No symbol) [0x007CDCE3]\n\t(No symbol) [0x007639D1]\n\t(No symbol) [0x00674DA8]\n\t(No symbol) [0x0065D0D3]\n\t(No symbol) [0x006BEA8B]\n\t(No symbol) [0x006CD093]\n\t(No symbol) [0x006BACC6]\n\t(No symbol) [0x00696F68]\n\t(No symbol) [0x006980CD]\n\tGetHandleVerifier [0x00A43832+2506274]\n\tGetHandleVerifier [0x00A79794+2727300]\n\tGetHandleVerifier [0x00A7E36C+2746716]\n\tGetHandleVerifier [0x00876690+617600]\n\t(No symbol) [0x0076C712]\n\t(No symbol) [0x00771FF8]\n\t(No symbol) [0x007720DB]\n\t(No symbol) [0x0077C63B]\n\tBaseThreadInitThunk [0x76E000F9+25]\n\tRtlGetAppContainerNamedObjectPath [0x77CD7BBE+286]\n\tRtlGetAppContainerNamedObjectPath [0x77CD7B8E+238]\n",
     "output_type": "error",
     "traceback": [
      "\u001b[1;31m---------------------------------------------------------------------------\u001b[0m",
      "\u001b[1;31mNoSuchWindowException\u001b[0m                     Traceback (most recent call last)",
      "Input \u001b[1;32mIn [2]\u001b[0m, in \u001b[0;36m<cell line: 4>\u001b[1;34m()\u001b[0m\n\u001b[0;32m      7\u001b[0m \u001b[38;5;28;01mfor\u001b[39;00m i \u001b[38;5;129;01min\u001b[39;00m \u001b[38;5;28mrange\u001b[39m(start_page, end_page \u001b[38;5;241m+\u001b[39m \u001b[38;5;241m1\u001b[39m):\n\u001b[0;32m      8\u001b[0m     \u001b[38;5;28;01mfor\u001b[39;00m i \u001b[38;5;129;01min\u001b[39;00m \u001b[38;5;28mrange\u001b[39m(\u001b[38;5;241m1\u001b[39m,\u001b[38;5;241m21\u001b[39m):\n\u001b[1;32m----> 9\u001b[0m         info \u001b[38;5;241m=\u001b[39m \u001b[43mdriver\u001b[49m\u001b[38;5;241;43m.\u001b[39;49m\u001b[43mfind_element\u001b[49m\u001b[43m(\u001b[49m\u001b[43mBy\u001b[49m\u001b[38;5;241;43m.\u001b[39;49m\u001b[43mXPATH\u001b[49m\u001b[43m,\u001b[49m\u001b[43m \u001b[49m\u001b[38;5;124;43mf\u001b[39;49m\u001b[38;5;124;43m'\u001b[39;49m\u001b[38;5;124;43m//*[@id=\u001b[39;49m\u001b[38;5;124;43m\"\u001b[39;49m\u001b[38;5;124;43mhosp\u001b[39;49m\u001b[38;5;124;43m\"\u001b[39;49m\u001b[38;5;124;43m]/tbody/tr[\u001b[39;49m\u001b[38;5;132;43;01m{\u001b[39;49;00m\u001b[43mi\u001b[49m\u001b[38;5;132;43;01m}\u001b[39;49;00m\u001b[38;5;124;43m]/td[9]/a/button\u001b[39;49m\u001b[38;5;124;43m'\u001b[39;49m\u001b[43m)\u001b[49m\n\u001b[0;32m     10\u001b[0m         info\u001b[38;5;241m.\u001b[39mclick()\n\u001b[0;32m     12\u001b[0m         ID \u001b[38;5;241m=\u001b[39m info\u001b[38;5;241m.\u001b[39mget_attribute(\u001b[38;5;124m\"\u001b[39m\u001b[38;5;124mdata-id\u001b[39m\u001b[38;5;124m\"\u001b[39m)\n",
      "File \u001b[1;32m~\\AppData\\Roaming\\Python\\Python39\\site-packages\\selenium\\webdriver\\remote\\webdriver.py:830\u001b[0m, in \u001b[0;36mWebDriver.find_element\u001b[1;34m(self, by, value)\u001b[0m\n\u001b[0;32m    827\u001b[0m     by \u001b[38;5;241m=\u001b[39m By\u001b[38;5;241m.\u001b[39mCSS_SELECTOR\n\u001b[0;32m    828\u001b[0m     value \u001b[38;5;241m=\u001b[39m \u001b[38;5;124mf\u001b[39m\u001b[38;5;124m'\u001b[39m\u001b[38;5;124m[name=\u001b[39m\u001b[38;5;124m\"\u001b[39m\u001b[38;5;132;01m{\u001b[39;00mvalue\u001b[38;5;132;01m}\u001b[39;00m\u001b[38;5;124m\"\u001b[39m\u001b[38;5;124m]\u001b[39m\u001b[38;5;124m'\u001b[39m\n\u001b[1;32m--> 830\u001b[0m \u001b[38;5;28;01mreturn\u001b[39;00m \u001b[38;5;28;43mself\u001b[39;49m\u001b[38;5;241;43m.\u001b[39;49m\u001b[43mexecute\u001b[49m\u001b[43m(\u001b[49m\u001b[43mCommand\u001b[49m\u001b[38;5;241;43m.\u001b[39;49m\u001b[43mFIND_ELEMENT\u001b[49m\u001b[43m,\u001b[49m\u001b[43m \u001b[49m\u001b[43m{\u001b[49m\u001b[38;5;124;43m\"\u001b[39;49m\u001b[38;5;124;43musing\u001b[39;49m\u001b[38;5;124;43m\"\u001b[39;49m\u001b[43m:\u001b[49m\u001b[43m \u001b[49m\u001b[43mby\u001b[49m\u001b[43m,\u001b[49m\u001b[43m \u001b[49m\u001b[38;5;124;43m\"\u001b[39;49m\u001b[38;5;124;43mvalue\u001b[39;49m\u001b[38;5;124;43m\"\u001b[39;49m\u001b[43m:\u001b[49m\u001b[43m \u001b[49m\u001b[43mvalue\u001b[49m\u001b[43m}\u001b[49m\u001b[43m)\u001b[49m[\u001b[38;5;124m\"\u001b[39m\u001b[38;5;124mvalue\u001b[39m\u001b[38;5;124m\"\u001b[39m]\n",
      "File \u001b[1;32m~\\AppData\\Roaming\\Python\\Python39\\site-packages\\selenium\\webdriver\\remote\\webdriver.py:440\u001b[0m, in \u001b[0;36mWebDriver.execute\u001b[1;34m(self, driver_command, params)\u001b[0m\n\u001b[0;32m    438\u001b[0m response \u001b[38;5;241m=\u001b[39m \u001b[38;5;28mself\u001b[39m\u001b[38;5;241m.\u001b[39mcommand_executor\u001b[38;5;241m.\u001b[39mexecute(driver_command, params)\n\u001b[0;32m    439\u001b[0m \u001b[38;5;28;01mif\u001b[39;00m response:\n\u001b[1;32m--> 440\u001b[0m     \u001b[38;5;28;43mself\u001b[39;49m\u001b[38;5;241;43m.\u001b[39;49m\u001b[43merror_handler\u001b[49m\u001b[38;5;241;43m.\u001b[39;49m\u001b[43mcheck_response\u001b[49m\u001b[43m(\u001b[49m\u001b[43mresponse\u001b[49m\u001b[43m)\u001b[49m\n\u001b[0;32m    441\u001b[0m     response[\u001b[38;5;124m\"\u001b[39m\u001b[38;5;124mvalue\u001b[39m\u001b[38;5;124m\"\u001b[39m] \u001b[38;5;241m=\u001b[39m \u001b[38;5;28mself\u001b[39m\u001b[38;5;241m.\u001b[39m_unwrap_value(response\u001b[38;5;241m.\u001b[39mget(\u001b[38;5;124m\"\u001b[39m\u001b[38;5;124mvalue\u001b[39m\u001b[38;5;124m\"\u001b[39m, \u001b[38;5;28;01mNone\u001b[39;00m))\n\u001b[0;32m    442\u001b[0m     \u001b[38;5;28;01mreturn\u001b[39;00m response\n",
      "File \u001b[1;32m~\\AppData\\Roaming\\Python\\Python39\\site-packages\\selenium\\webdriver\\remote\\errorhandler.py:245\u001b[0m, in \u001b[0;36mErrorHandler.check_response\u001b[1;34m(self, response)\u001b[0m\n\u001b[0;32m    243\u001b[0m         alert_text \u001b[38;5;241m=\u001b[39m value[\u001b[38;5;124m\"\u001b[39m\u001b[38;5;124malert\u001b[39m\u001b[38;5;124m\"\u001b[39m]\u001b[38;5;241m.\u001b[39mget(\u001b[38;5;124m\"\u001b[39m\u001b[38;5;124mtext\u001b[39m\u001b[38;5;124m\"\u001b[39m)\n\u001b[0;32m    244\u001b[0m     \u001b[38;5;28;01mraise\u001b[39;00m exception_class(message, screen, stacktrace, alert_text)  \u001b[38;5;66;03m# type: ignore[call-arg]  # mypy is not smart enough here\u001b[39;00m\n\u001b[1;32m--> 245\u001b[0m \u001b[38;5;28;01mraise\u001b[39;00m exception_class(message, screen, stacktrace)\n",
      "\u001b[1;31mNoSuchWindowException\u001b[0m: Message: no such window: target window already closed\nfrom unknown error: web view not found\n  (Session info: chrome=111.0.5563.147)\nStacktrace:\nBacktrace:\n\t(No symbol) [0x007CDCE3]\n\t(No symbol) [0x007639D1]\n\t(No symbol) [0x00674DA8]\n\t(No symbol) [0x0065D0D3]\n\t(No symbol) [0x006BEA8B]\n\t(No symbol) [0x006CD093]\n\t(No symbol) [0x006BACC6]\n\t(No symbol) [0x00696F68]\n\t(No symbol) [0x006980CD]\n\tGetHandleVerifier [0x00A43832+2506274]\n\tGetHandleVerifier [0x00A79794+2727300]\n\tGetHandleVerifier [0x00A7E36C+2746716]\n\tGetHandleVerifier [0x00876690+617600]\n\t(No symbol) [0x0076C712]\n\t(No symbol) [0x00771FF8]\n\t(No symbol) [0x007720DB]\n\t(No symbol) [0x0077C63B]\n\tBaseThreadInitThunk [0x76E000F9+25]\n\tRtlGetAppContainerNamedObjectPath [0x77CD7BBE+286]\n\tRtlGetAppContainerNamedObjectPath [0x77CD7B8E+238]\n"
     ]
    }
   ],
   "source": [
    "start_page =1\n",
    "end_page = 2100\n",
    "\n",
    "with open('N_ministry_of_health_dataset updated1.csv', 'a', newline= \"\") as dataset:\n",
    "    #dataset.write(\"; Start Date; unique_id; State; Iga;  Facility_Name\\n\")\n",
    "\n",
    "    for i in range(start_page, end_page + 1):\n",
    "        for i in range(1,21):\n",
    "            info = driver.find_element(By.XPATH, f'//*[@id=\"hosp\"]/tbody/tr[{i}]/td[9]/a/button')\n",
    "            info.click()\n",
    "            \n",
    "            ID = info.get_attribute(\"data-id\")\n",
    "            unique_id = info.get_attribute(\"data-unique_id\")\n",
    "            state = info.get_attribute(\"data-state\")\n",
    "            lga = info.get_attribute(\"data-lga\")\n",
    "            facility_name = info.get_attribute(\"data-facility_name\")\n",
    "            facility_code = info.get_attribute(\"data-facility_code\")            \n",
    "            ward = info.get_attribute(\"data-ward\")\n",
    "            ownership = info.get_attribute(\"data-ownership\")\n",
    "            operational_hours = info.get_attribute(\"data-operational_hours\")\n",
    "            facility_level = info.get_attribute(\"data-facility_level\")\n",
    "            longitude = info.get_attribute(\"data-longitude\")\n",
    "            latitude =  info.get_attribute(\"data-latitude\")\n",
    "            operation_status =  info.get_attribute(\"data-operation_status\")\n",
    "            registration_status =  info.get_attribute(\"data-registration_status\")\n",
    "            license_status =  info.get_attribute(\"data-license_status\")\n",
    "            doctors =  info.get_attribute(\"data-doctors\")\n",
    "            pharmacists = info.get_attribute(\"data-pharmacists\")\n",
    "            dentist = info.get_attribute(\"data-dentist\")\n",
    "            pharmacy_technicians = info.get_attribute(\"data-pharmacy_technicians\")\n",
    "            nurses = info.get_attribute(\"data-nurses\")\n",
    "            lab_scientists = info.get_attribute(\"data-lab_scientists\")\n",
    "            midwifes = info.get_attribute(\"data-midwifes\")\n",
    "            nurse_midwife = info.get_attribute(\"data-nurse_midwife\")\n",
    "            beds = info.get_attribute(\"data-beds\")\n",
    "            physical_location = info.get_attribute(\"data-physical_location\")\n",
    "            facility_level_option = info.get_attribute(\"data-facility_level_option\")\n",
    "            jun_community_extension_worker = info.get_attribute(\"data-jun_community_extension_worker\")\n",
    "            dental_technicians = info.get_attribute(\"data-dental_technicians\")\n",
    "            community_health_officer = info.get_attribute(\"data-community_health_officer\")\n",
    "            community_extension_workers = info.get_attribute(\"data-community_extension_workers\")\n",
    "            env_health_officers = info.get_attribute(\"data-env_health_officers\")\n",
    "            him_officers = info.get_attribute(\" data-him_officers\")\n",
    "            attendants = info.get_attribute(\"data-attendants\")\n",
    "            start_date  = info.get_attribute(\"data-start_date\")\n",
    "            registration_status = info.get_attribute(\" data-registration_status\")\n",
    "            \n",
    "            \n",
    "            dataset.write(f\"{ID}; {unique_id};{state};{lga}; {facility_name};{ward};{ownership};{operational_hours};{facility_level};{longitude}; {latitude};{operation_status};{operation_status};{registration_status};{license_status};{doctors};{pharmacists};{dentist};{pharmacy_technicians};{nurses};{lab_scientists};{midwifes};{nurse_midwife};{beds};{onsite_laboratory};{facility_code};{data-physical_location};{jun_community_extension_worker};{facility_level_option};{jun_community_extension_worker};{dental_technicians};{community_health_officer};{community_extension_workers};{env_health_officers};{him_officers};{attendants};{start_date};{registration_status}\\n\")\n",
    "            time.sleep(2)\n",
    "            \n",
    "            close = driver.find_element(By.XPATH, '//*[@id=\"view_details\"]/div/div/div[2]/div[2]/button')\n",
    "            close.click()\n",
    "            time.sleep(2)\n",
    "   \n",
    "        next = driver.find_element(By.LINK_TEXT, \"›\" )\n",
    "        next.click()\n",
    "        time.sleep(3)"
   ]
  },
  {
   "cell_type": "markdown",
   "id": "ce1410d6",
   "metadata": {},
   "source": [
    "# Data cleaning"
   ]
  },
  {
   "cell_type": "code",
   "execution_count": null,
   "id": "c5515292",
   "metadata": {},
   "outputs": [],
   "source": [
    "pd.set_option('display.max_columns', None)\n",
    "n_health_data = pd.read_csv(r'C:\\Users\\HP\\Documents\\N_ministry_of_health_dataset updated1.csv', delimiter = \";\", header = None)#,error_bad_lines=False)"
   ]
  },
  {
   "cell_type": "code",
   "execution_count": null,
   "id": "a654f4f8",
   "metadata": {},
   "outputs": [],
   "source": [
    "n_health_data.head(2)"
   ]
  },
  {
   "cell_type": "markdown",
   "id": "8799f043",
   "metadata": {},
   "source": [
    "Assighning column name"
   ]
  },
  {
   "cell_type": "code",
   "execution_count": null,
   "id": "474ee890",
   "metadata": {},
   "outputs": [],
   "source": [
    "columns = [\"facility_uid\", \"facility_code\",\"Registration_No\",\"Start_Date\", \"facility_name\",\"Alt_Facility_Name\",\"state\",\"lga\", \"ward\",\"ownership\",\"Ownership_Type\" ,\"facility_level\",\"Facility_Level_Option\", \"c\",\"Alternate_Number\", \"longitude\", \"latitude\",\"Phone_Number\",\"Email_Address\",\"Website\",\"Operational_Days\", \"Operation_Hour\", \"operation_status\", \"registration_status\", \"license_status\", \"doctors\", \"pharmacists\", \"dentist\",\"pharmacy_technicians\", \"nurses\", \"lab_scientists\", \"midwifes\",\"Lab_Technicians\", \"nurse_midwife\", \"HIM_Officers\",\"Community_Health_Officer\",\"Community_Extension_Workers\", \"Jun_Community_Extension_Worker\",\"Dental_Technicians\",\"Env_Health_Officers\",\"Inpatient\",\"Outpatient\",\"beds\", \"onsite_laboratory\",\"Onsite_Imaging\",\"Onsite_Pharmarcy\",\"Mortuary_Services\", \"No_Of_Attendants\", \"Ambulance_Services\",\"State_Unique_Id\"]\n",
    "n_health_data.columns = columns"
   ]
  },
  {
   "cell_type": "raw",
   "id": "796f9d3a",
   "metadata": {},
   "source": [
    "Drop duplicate column"
   ]
  },
  {
   "cell_type": "code",
   "execution_count": null,
   "id": "386bb8e6",
   "metadata": {},
   "outputs": [],
   "source": [
    "n_health_data = n_health_data.loc[:, ~n_health_data.columns.duplicated()]\n"
   ]
  },
  {
   "cell_type": "markdown",
   "id": "2836d856",
   "metadata": {},
   "source": [
    "Drop the first row"
   ]
  },
  {
   "cell_type": "code",
   "execution_count": null,
   "id": "263ab180",
   "metadata": {},
   "outputs": [],
   "source": [
    "n_health_data = n_health_data.iloc[1:]\n",
    "n_health_data"
   ]
  },
  {
   "cell_type": "raw",
   "id": "e1abb4c5",
   "metadata": {},
   "source": [
    "Drop duplicate values "
   ]
  },
  {
   "cell_type": "code",
   "execution_count": null,
   "id": "d9cdf753",
   "metadata": {},
   "outputs": [],
   "source": [
    "n_health_data.drop_duplicates(inplace = True)"
   ]
  },
  {
   "cell_type": "raw",
   "id": "0edde057",
   "metadata": {},
   "source": [
    "Count the missing values on a column"
   ]
  },
  {
   "cell_type": "code",
   "execution_count": null,
   "id": "aa6bf5be",
   "metadata": {},
   "outputs": [],
   "source": [
    "n_health_data['beds'].isnull().value_counts()"
   ]
  },
  {
   "cell_type": "raw",
   "id": "7ae55abb",
   "metadata": {},
   "source": [
    "check the whole dataset data type "
   ]
  },
  {
   "cell_type": "code",
   "execution_count": null,
   "id": "0c754f37",
   "metadata": {},
   "outputs": [],
   "source": [
    "n_health_data.dtypes"
   ]
  },
  {
   "cell_type": "markdown",
   "id": "8191285c",
   "metadata": {},
   "source": [
    "total sum of the missing value on each column"
   ]
  },
  {
   "cell_type": "code",
   "execution_count": null,
   "id": "3bd5f62a",
   "metadata": {},
   "outputs": [],
   "source": [
    "n_health_data.isnull().sum()"
   ]
  },
  {
   "cell_type": "raw",
   "id": "fb4c739f",
   "metadata": {},
   "source": [
    "Replace , change data type and inplace the columns"
   ]
  },
  {
   "cell_type": "code",
   "execution_count": null,
   "id": "8310afe5",
   "metadata": {},
   "outputs": [],
   "source": [
    "n_health_data['beds']=n_health_data['beds'].replace(' ', '0')\n",
    "n_health_data['beds'].apply(lambda x: pd.to_numeric(x, errors='coerce')).astype('Int32')\n",
    "\n",
    "n_health_data['doctors']=n_health_data['doctors'].replace(' ', '0')\n",
    "n_health_data['doctors'] = n_health_data['doctors'].apply(lambda x: pd.to_numeric(x, errors='coerce')).astype('Int32')\n",
    "\n",
    "\n",
    "n_health_data['pharmacists']=n_health_data['pharmacists'].replace(' ', '0')\n",
    "n_health_data['pharmacists'] = n_health_data['pharmacists'].apply(lambda x: pd.to_numeric(x, errors='coerce')).astype('Int32')\n",
    "\n",
    "n_health_data['pharmacy_technicians']=n_health_data['pharmacy_technicians'].replace(' ', '0')\n",
    "n_health_data['pharmacy_technicians'] = n_health_data['pharmacy_technicians'].apply(lambda x: pd.to_numeric(x, errors='coerce')).astype('Int32')\n",
    "\n",
    "n_health_data['dentist']=n_health_data['dentist'].replace(' ', '0')\n",
    "n_health_data['dentist'] = n_health_data['dentist'].apply(lambda x: pd.to_numeric(x, errors='coerce')).astype('Int32')\n",
    "\n",
    "n_health_data['Dental_Technicians']=n_health_data['Dental_Technicians'].replace(' ', '0')\n",
    "n_health_data['Dental_Technicians'] = n_health_data['Dental_Technicians'].apply(lambda x: pd.to_numeric(x, errors='coerce')).astype('Int32')\n",
    "\n",
    "n_health_data['nurses']=n_health_data['nurses'].replace(' ', '0')\n",
    "n_health_data['nurses'] = n_health_data['nurses'].apply(lambda x: pd.to_numeric(x, errors='coerce')).astype('Int32')\n",
    "\n",
    "n_health_data['midwifes']=n_health_data['midwifes'].replace(' ', '0')\n",
    "n_health_data['midwifes'] = n_health_data['midwifes'].apply(lambda x: pd.to_numeric(x, errors='coerce')).astype('Int32')\n",
    "\n",
    "n_health_data['nurse_midwife']=n_health_data['nurse_midwife'].replace(' ', '0')\n",
    "n_health_data['nurse_midwife'] = n_health_data['nurse_midwife'].apply(lambda x: pd.to_numeric(x, errors='coerce')).astype('Int32')\n",
    "\n",
    "n_health_data['Lab_Technicians']=n_health_data['Lab_Technicians'].replace(' ', '0')\n",
    "n_health_data['Lab_Technicians'] = n_health_data['Lab_Technicians'].apply(lambda x: pd.to_numeric(x, errors='coerce')).astype('Int32')\n",
    "\n",
    "\n",
    "n_health_data['Health_Records/HIM_Officers']=n_health_data['Health_Records/HIM_Officers'].replace(' ', '0')\n",
    "n_health_data['Health_Records/HIM_Officers'] = n_health_data['Health_Records/HIM_Officers'].apply(lambda x: pd.to_numeric(x, errors='coerce')).astype('Int32')\n",
    "\n",
    "n_health_data['community_health_officer']=n_health_data['community_health_officer'].replace(' ', '0')\n",
    "n_health_data['community_health_officer'] = n_health_data['community_health_officer'].apply(lambda x: pd.to_numeric(x, errors='coerce')).astype('Int32')\n",
    "\n",
    "n_health_data['Health_extension_worker']=n_health_data['Health_extension_worker'].replace(' ', '0')\n",
    "n_health_data['Health_extension_worker'] = n_health_data['Health_extension_worker'].apply(lambda x: pd.to_numeric(x, errors='coerce')).astype('Int32')\n",
    "\n",
    "n_health_data['J_comm_health_worker']=n_health_data['J_comm_health_worker'].replace(' ', '0')\n",
    "n_health_data['J_comm_health_worker'] = n_health_data['J_comm_health_worker'].apply(lambda x: pd.to_numeric(x, errors='coerce')).astype('Int32')\n",
    "\n",
    "n_health_data['enviromental_health_worker']=n_health_data['enviromental_health_worker'].replace(' ', '0')\n",
    "n_health_data['enviromental_health_worker'] = n_health_data['enviromental_health_worker'].apply(lambda x: pd.to_numeric(x, errors='coerce')).astype('Int32')\n",
    "\n",
    "n_health_data['health_attendance_assist']=n_health_data['health_attendance_assist'].replace(' ', '0')\n",
    "n_health_data['health_attendance_assist'] = n_health_data['health_attendance_assist'].apply(lambda x: pd.to_numeric(x, errors='coerce')).astype('Int32')\n"
   ]
  },
  {
   "cell_type": "code",
   "execution_count": null,
   "id": "6220b195",
   "metadata": {},
   "outputs": [],
   "source": [
    "\n",
    "n_health_data['Longitude']=n_health_data['Longitude'].replace(' ', '0')\n",
    "n_health_data['Longitude'] = n_health_data['Longitude'].apply(lambda x: pd.to_numeric(x, errors='coerce')).astype('float')\n",
    "\n",
    "n_health_data['latitude']=n_health_data['latitude'].replace(' ', '0')\n",
    "n_health_data['latitude'] = n_health_data['latitude'].apply(lambda x: pd.to_numeric(x, errors='coerce')).astype('float')\n"
   ]
  },
  {
   "cell_type": "raw",
   "id": "4e2f2886",
   "metadata": {},
   "source": [
    "fillling the missing value"
   ]
  },
  {
   "cell_type": "code",
   "execution_count": null,
   "id": "f3de7045",
   "metadata": {},
   "outputs": [],
   "source": [
    "n_health_data['pharmacists'].fillna(0, inplace = True)\n",
    "n_health_data['doctors'].fillna(0, inplace = True)\n",
    "n_health_data['pharmacy_technicians'].fillna(0, inplace = True)\n",
    "n_health_data['dentist'].fillna(0, inplace = True)\n",
    "n_health_data['Dental_Technicians'].fillna(0, inplace = True)\n",
    "n_health_data['nurses'].fillna(0, inplace = True)\n",
    "n_health_data['nurse_midwife'].fillna(0, inplace = True)\n",
    "n_health_data['Lab_Technicians'].fillna(0, inplace = True)\n",
    "n_health_data['lab_scientists'].fillna(0, inplace = True)\n",
    "n_health_data['Longitude'].fillna(0.0, inplace = True)\n",
    "n_health_data['latitude'].fillna(0.0, inplace = True)\n",
    "n_health_data['midwifes'].fillna(0, inplace = True)\n",
    "n_health_data['Health_Records/HIM_Officers'].fillna(0, inplace = True)\n",
    "n_health_data['community_health_officer'].fillna(0, inplace = True)\n",
    "n_health_data['Health_extension_worker'].fillna(0, inplace = True)\n",
    "n_health_data['J_comm_health_worker'].fillna(0, inplace = True)\n",
    "n_health_data['enviromental_health_worker'].fillna(0, inplace = True)\n",
    "n_health_data['health_attendance_assist'].fillna(0, inplace = True)\n",
    "n_health_data['beds'].fillna(0, inplace = True)"
   ]
  },
  {
   "cell_type": "raw",
   "id": "ec043dec",
   "metadata": {},
   "source": [
    "save data as csv"
   ]
  },
  {
   "cell_type": "code",
   "execution_count": null,
   "id": "23160c54",
   "metadata": {},
   "outputs": [],
   "source": [
    " n_health_data.to_csv(\"real_health_datas.csv\")\n"
   ]
  },
  {
   "cell_type": "raw",
   "id": "8cea563a",
   "metadata": {},
   "source": [
    "Export the data to SQL"
   ]
  },
  {
   "cell_type": "code",
   "execution_count": null,
   "id": "78feff49",
   "metadata": {},
   "outputs": [],
   "source": [
    "\n",
    "# Parameters for the PostgreSQL database\n",
    "user = \"postgres\"\n",
    "password = \"********\"\n",
    "host = \"localhost\"\n",
    "port = \"5432\"\n",
    "database = \"postgres\"\n",
    "\n",
    "# Connect to the PostgreSQL database using SQLAlchemy\n",
    "engine = create_engine(f\"postgresql://{user}:{password}@{host}:{port}/{database}\")\n",
    "\n",
    "# Read the CSV file into a Pandas dataframe\n",
    "df = pd.read_csv(r'C:\\Users\\HP\\Documents\\Alt school data\\real_health_datas.csv')\n",
    "\n",
    "# Write the dataframe to the PostgreSQL database\n",
    "df.to_sql(\"health_dataset\", engine, if_exists=\"replace\", index=False)\n",
    "\n",
    "# Close the database connection\n",
    "engine.dispose()\n"
   ]
  }
 ],
 "metadata": {
  "kernelspec": {
   "display_name": "Python 3 (ipykernel)",
   "language": "python",
   "name": "python3"
  },
  "language_info": {
   "codemirror_mode": {
    "name": "ipython",
    "version": 3
   },
   "file_extension": ".py",
   "mimetype": "text/x-python",
   "name": "python",
   "nbconvert_exporter": "python",
   "pygments_lexer": "ipython3",
   "version": "3.9.12"
  }
 },
 "nbformat": 4,
 "nbformat_minor": 5
}
